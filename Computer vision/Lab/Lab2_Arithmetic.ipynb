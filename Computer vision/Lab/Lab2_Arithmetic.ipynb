{
 "cells": [
  {
   "cell_type": "code",
   "execution_count": 10,
   "id": "0b3dece1",
   "metadata": {},
   "outputs": [],
   "source": [
    "import cv2 \n",
    "import numpy as np\n",
    "import matplotlib.pyplot as plt"
   ]
  },
  {
   "cell_type": "markdown",
   "id": "d76fc06c",
   "metadata": {},
   "source": [
    "//ADDITION\n"
   ]
  },
  {
   "cell_type": "code",
   "execution_count": 11,
   "id": "2b105f13",
   "metadata": {},
   "outputs": [
    {
     "name": "stdout",
     "output_type": "stream",
     "text": [
      "Enter the image path R8.jpg\n",
      "(8064, 6048)\n",
      "[[140 141 144 ... 230 229 229]\n",
      " [139 140 141 ... 230 230 230]\n",
      " [138 138 138 ... 231 231 231]\n",
      " ...\n",
      " [143 141 140 ... 157 164 171]\n",
      " [143 140 139 ... 165 172 179]\n",
      " [145 142 141 ... 172 178 185]]\n",
      "(10, 10)\n",
      "[[159   8  24  19  22  32  43  45 108 107]\n",
      " [190  33  90  28  31  22  64  47  24 112]\n",
      " [235  60   7 133  55  35 224  22  83 245]\n",
      " [188  21  69 107 152 163 213 213 224 231]\n",
      " [155 232  55 115  65 119 222   2  25 177]\n",
      " [196 209 148 113 157 175 169 178 162 168]\n",
      " [126 176 185 142 182 232 238 130 103 234]\n",
      " [201 175 188 180 159 126 179 172 180 201]\n",
      " [154 183 186 103 151 173 138 177 172 159]\n",
      " [165 166 166 147 186 200 179 161 157 157]]\n"
     ]
    },
    {
     "data": {
      "text/plain": [
       "<matplotlib.image.AxesImage at 0x7fbbe2cb4a30>"
      ]
     },
     "execution_count": 11,
     "metadata": {},
     "output_type": "execute_result"
    },
    {
     "data": {
      "image/png": "[encoded data removed]",
      "text/plain": [
       "<Figure size 432x288 with 1 Axes>"
      ]
     },
     "metadata": {
      "needs_background": "light"
     },
     "output_type": "display_data"
    }
   ],
   "source": [
    "path = input(\"Enter the image path \")\n",
    "img = cv2.imread(path,1)\n",
    "img = cv2.cvtColor(img, cv2.COLOR_BGR2GRAY)\n",
    "\n",
    "print(img.shape)\n",
    "print(img)\n",
    "\n",
    "width = 10\n",
    "height = 10\n",
    "dim = (width, height)\n",
    "\n",
    "resized = cv2.resize(img, dim)\n",
    "print(resized.shape)\n",
    "print(resized)\n",
    "\n",
    "plt.imshow(resized, cmap='gray')"
   ]
  },
  {
   "cell_type": "code",
   "execution_count": 12,
   "id": "23ed4646",
   "metadata": {},
   "outputs": [
    {
     "name": "stdout",
     "output_type": "stream",
     "text": [
      "Enter the intensity of 2nd img: 10\n",
      "[[159   8  24  19  22  32  43  45 108 107]\n",
      " [190  33  90  28  31  22  64  47  24 112]\n",
      " [235  60   7 133  55  35 224  22  83 245]\n",
      " [188  21  69 107 152 163 213 213 224 231]\n",
      " [155 232  55 115  65 119 222   2  25 177]\n",
      " [196 209 148 113 157 175 169 178 162 168]\n",
      " [126 176 185 142 182 232 238 130 103 234]\n",
      " [201 175 188 180 159 126 179 172 180 201]\n",
      " [154 183 186 103 151 173 138 177 172 159]\n",
      " [165 166 166 147 186 200 179 161 157 157]]\n",
      "[[10 10 10 10 10 10 10 10 10 10]\n",
      " [10 10 10 10 10 10 10 10 10 10]\n",
      " [10 10 10 10 10 10 10 10 10 10]\n",
      " [10 10 10 10 10 10 10 10 10 10]\n",
      " [10 10 10 10 10 10 10 10 10 10]\n",
      " [10 10 10 10 10 10 10 10 10 10]\n",
      " [10 10 10 10 10 10 10 10 10 10]\n",
      " [10 10 10 10 10 10 10 10 10 10]\n",
      " [10 10 10 10 10 10 10 10 10 10]\n",
      " [10 10 10 10 10 10 10 10 10 10]]\n",
      "The addition with CV2 [[169  18  34  29  32  42  53  55 118 117]\n",
      " [200  43 100  38  41  32  74  57  34 122]\n",
      " [245  70  17 143  65  45 234  32  93 255]\n",
      " [198  31  79 117 162 173 223 223 234 241]\n",
      " [165 242  65 125  75 129 232  12  35 187]\n",
      " [206 219 158 123 167 185 179 188 172 178]\n",
      " [136 186 195 152 192 242 248 140 113 244]\n",
      " [211 185 198 190 169 136 189 182 190 211]\n",
      " [164 193 196 113 161 183 148 187 182 169]\n",
      " [175 176 176 157 196 210 189 171 167 167]]\n",
      "Simple addition [[169  18  34  29  32  42  53  55 118 117]\n",
      " [200  43 100  38  41  32  74  57  34 122]\n",
      " [245  70  17 143  65  45 234  32  93 255]\n",
      " [198  31  79 117 162 173 223 223 234 241]\n",
      " [165 242  65 125  75 129 232  12  35 187]\n",
      " [206 219 158 123 167 185 179 188 172 178]\n",
      " [136 186 195 152 192 242 248 140 113 244]\n",
      " [211 185 198 190 169 136 189 182 190 211]\n",
      " [164 193 196 113 161 183 148 187 182 169]\n",
      " [175 176 176 157 196 210 189 171 167 167]]\n",
      "Shape of input image  (10, 10)\n"
     ]
    },
    {
     "data": {
      "image/png": "[encoded data removed]",
      "text/plain": [
       "<Figure size 432x288 with 1 Axes>"
      ]
     },
     "metadata": {
      "needs_background": "light"
     },
     "output_type": "display_data"
    },
    {
     "data": {
      "image/png": "[encoded data removed]",
      "text/plain": [
       "<Figure size 432x288 with 1 Axes>"
      ]
     },
     "metadata": {
      "needs_background": "light"
     },
     "output_type": "display_data"
    },
    {
     "data": {
      "image/png": "[encoded data removed]",
      "text/plain": [
       "<Figure size 432x288 with 1 Axes>"
      ]
     },
     "metadata": {
      "needs_background": "light"
     },
     "output_type": "display_data"
    }
   ],
   "source": [
    "k = int(input(\"Enter the intensity of 2nd img: \"))\n",
    "M = np.ones(resized.shape, dtype=\"uint8\")*k\n",
    "\n",
    "print(resized)\n",
    "print(M)\n",
    "\n",
    "add1 = cv2.add(resized, M)\n",
    "\n",
    "add2 = resized + M\n",
    "\n",
    "print(\"The addition with CV2\", add1)\n",
    "\n",
    "print(\"Simple addition\", add2)\n",
    "\n",
    "print(\"Shape of input image \", resized.shape)\n",
    "\n",
    "plt.imshow(resized, cmap='gray')\n",
    "plt.show()\n",
    "\n",
    "plt.imshow(add1, cmap='gray')\n",
    "plt.show()\n",
    "\n",
    "plt.imshow(add2, cmap='gray')\n",
    "plt.show()\n",
    "\n"
   ]
  },
  {
   "cell_type": "code",
   "execution_count": 15,
   "id": "dec486b9",
   "metadata": {},
   "outputs": [
    {
     "name": "stdout",
     "output_type": "stream",
     "text": [
      "Enter image intensity: 10\n",
      "[[159   8  24  19  22  32  43  45 108 107]\n",
      " [190  33  90  28  31  22  64  47  24 112]\n",
      " [235  60   7 133  55  35 224  22  83 245]\n",
      " [188  21  69 107 152 163 213 213 224 231]\n",
      " [155 232  55 115  65 119 222   2  25 177]\n",
      " [196 209 148 113 157 175 169 178 162 168]\n",
      " [126 176 185 142 182 232 238 130 103 234]\n",
      " [201 175 188 180 159 126 179 172 180 201]\n",
      " [154 183 186 103 151 173 138 177 172 159]\n",
      " [165 166 166 147 186 200 179 161 157 157]]\n",
      "[[10 10 10 10 10 10 10 10 10 10]\n",
      " [10 10 10 10 10 10 10 10 10 10]\n",
      " [10 10 10 10 10 10 10 10 10 10]\n",
      " [10 10 10 10 10 10 10 10 10 10]\n",
      " [10 10 10 10 10 10 10 10 10 10]\n",
      " [10 10 10 10 10 10 10 10 10 10]\n",
      " [10 10 10 10 10 10 10 10 10 10]\n",
      " [10 10 10 10 10 10 10 10 10 10]\n",
      " [10 10 10 10 10 10 10 10 10 10]\n",
      " [10 10 10 10 10 10 10 10 10 10]]\n",
      "Subtraction matrix [[149   0  14   9  12  22  33  35  98  97]\n",
      " [180  23  80  18  21  12  54  37  14 102]\n",
      " [225  50   0 123  45  25 214  12  73 235]\n",
      " [178  11  59  97 142 153 203 203 214 221]\n",
      " [145 222  45 105  55 109 212   0  15 167]\n",
      " [186 199 138 103 147 165 159 168 152 158]\n",
      " [116 166 175 132 172 222 228 120  93 224]\n",
      " [191 165 178 170 149 116 169 162 170 191]\n",
      " [144 173 176  93 141 163 128 167 162 149]\n",
      " [155 156 156 137 176 190 169 151 147 147]]\n"
     ]
    },
    {
     "data": {
      "image/png": "[encoded data removed]",
      "text/plain": [
       "<Figure size 432x288 with 1 Axes>"
      ]
     },
     "metadata": {
      "needs_background": "light"
     },
     "output_type": "display_data"
    },
    {
     "data": {
      "image/png": "[encoded data removed]",
      "text/plain": [
       "<Figure size 432x288 with 1 Axes>"
      ]
     },
     "metadata": {
      "needs_background": "light"
     },
     "output_type": "display_data"
    }
   ],
   "source": [
    "#SUBTRACTION\n",
    "k = int(input(\"Enter image intensity: \"))\n",
    "M = np.ones(resized.shape, dtype='uint8')*k\n",
    "print(resized)\n",
    "print(M)\n",
    "\n",
    "sub = cv2.subtract(resized, M)\n",
    "print(\"Subtraction matrix\",sub)\n",
    "\n",
    "plt.imshow(resized, cmap='gray')\n",
    "plt.show()\n",
    "plt.imshow(sub, cmap='gray')\n",
    "plt.show()"
   ]
  },
  {
   "cell_type": "code",
   "execution_count": 26,
   "id": "db171a6d",
   "metadata": {},
   "outputs": [
    {
     "name": "stdout",
     "output_type": "stream",
     "text": [
      "Enter image name with path: R8.jpg\n",
      "Matrix of image [[159   8  24  19  22  32  43  45 108 107]\n",
      " [190  33  90  28  31  22  64  47  24 112]\n",
      " [235  60   7 133  55  35 224  22  83 245]\n",
      " [188  21  69 107 152 163 213 213 224 231]\n",
      " [155 232  55 115  65 119 222   2  25 177]\n",
      " [196 209 148 113 157 175 169 178 162 168]\n",
      " [126 176 185 142 182 232 238 130 103 234]\n",
      " [201 175 188 180 159 126 179 172 180 201]\n",
      " [154 183 186 103 151 173 138 177 172 159]\n",
      " [165 166 166 147 186 200 179 161 157 157]]\n",
      "Enter intensity of 2nd img pixels: 2\n",
      "Matrix of intensity [[2 2 2 2 2 2 2 2 2 2]\n",
      " [2 2 2 2 2 2 2 2 2 2]\n",
      " [2 2 2 2 2 2 2 2 2 2]\n",
      " [2 2 2 2 2 2 2 2 2 2]\n",
      " [2 2 2 2 2 2 2 2 2 2]\n",
      " [2 2 2 2 2 2 2 2 2 2]\n",
      " [2 2 2 2 2 2 2 2 2 2]\n",
      " [2 2 2 2 2 2 2 2 2 2]\n",
      " [2 2 2 2 2 2 2 2 2 2]\n",
      " [2 2 2 2 2 2 2 2 2 2]]\n",
      "Multiplication matrix [[255  16  48  38  44  64  86  90 216 214]\n",
      " [255  66 180  56  62  44 128  94  48 224]\n",
      " [255 120  14 255 110  70 255  44 166 255]\n",
      " [255  42 138 214 255 255 255 255 255 255]\n",
      " [255 255 110 230 130 238 255   4  50 255]\n",
      " [255 255 255 226 255 255 255 255 255 255]\n",
      " [252 255 255 255 255 255 255 255 206 255]\n",
      " [255 255 255 255 255 252 255 255 255 255]\n",
      " [255 255 255 206 255 255 255 255 255 255]\n",
      " [255 255 255 255 255 255 255 255 255 255]]\n"
     ]
    },
    {
     "data": {
      "image/png": "[encoded data removed]",
      "text/plain": [
       "<Figure size 432x288 with 1 Axes>"
      ]
     },
     "metadata": {
      "needs_background": "light"
     },
     "output_type": "display_data"
    },
    {
     "data": {
      "image/png": "[encoded data removed]",
      "text/plain": [
       "<Figure size 432x288 with 1 Axes>"
      ]
     },
     "metadata": {
      "needs_background": "light"
     },
     "output_type": "display_data"
    }
   ],
   "source": [
    "path = input(\"Enter image name with path: \")\n",
    "img = cv2.imread(path, 1)\n",
    "img = cv2.cvtColor(img, cv2.COLOR_BGR2GRAY)\n",
    "\n",
    "width = 10\n",
    "height = 10\n",
    "dim = (width, height)\n",
    "resized = cv2.resize(img, dim)\n",
    "print(\"Matrix of image\", resized)\n",
    "    \n",
    "k = int(input(\"Enter intensity of 2nd img pixels: \"))\n",
    "M = np.ones(resized.shape, dtype=\"uint8\") * k\n",
    "\n",
    "print(\"Matrix of intensity\", M)\n",
    "\n",
    "mul = cv2.multiply(resized, M)\n",
    "\n",
    "plt.imshow(resized, cmap='gray')\n",
    "print(\"Multiplication matrix\",mul)\n",
    "\n",
    "plt.imshow(resized, cmap='gray')\n",
    "plt.show()\n",
    "plt.imshow(mul, cmap='gray')\n",
    "plt.show()\n"
   ]
  },
  {
   "cell_type": "code",
   "execution_count": 24,
   "id": "f27518bc",
   "metadata": {},
   "outputs": [
    {
     "name": "stdout",
     "output_type": "stream",
     "text": [
      "Enter image name with path: R8.jpg\n",
      "Matrix of image [[159   8  24  19  22  32  43  45 108 107]\n",
      " [190  33  90  28  31  22  64  47  24 112]\n",
      " [235  60   7 133  55  35 224  22  83 245]\n",
      " [188  21  69 107 152 163 213 213 224 231]\n",
      " [155 232  55 115  65 119 222   2  25 177]\n",
      " [196 209 148 113 157 175 169 178 162 168]\n",
      " [126 176 185 142 182 232 238 130 103 234]\n",
      " [201 175 188 180 159 126 179 172 180 201]\n",
      " [154 183 186 103 151 173 138 177 172 159]\n",
      " [165 166 166 147 186 200 179 161 157 157]]\n",
      "Enter intensity of 2nd img pixels: 5\n",
      "Intensity matrix:  [[5 5 5 5 5 5 5 5 5 5]\n",
      " [5 5 5 5 5 5 5 5 5 5]\n",
      " [5 5 5 5 5 5 5 5 5 5]\n",
      " [5 5 5 5 5 5 5 5 5 5]\n",
      " [5 5 5 5 5 5 5 5 5 5]\n",
      " [5 5 5 5 5 5 5 5 5 5]\n",
      " [5 5 5 5 5 5 5 5 5 5]\n",
      " [5 5 5 5 5 5 5 5 5 5]\n",
      " [5 5 5 5 5 5 5 5 5 5]\n",
      " [5 5 5 5 5 5 5 5 5 5]]\n",
      "Division matrix:  [[32  2  5  4  4  6  9  9 22 21]\n",
      " [38  7 18  6  6  4 13  9  5 22]\n",
      " [47 12  1 27 11  7 45  4 17 49]\n",
      " [38  4 14 21 30 33 43 43 45 46]\n",
      " [31 46 11 23 13 24 44  0  5 35]\n",
      " [39 42 30 23 31 35 34 36 32 34]\n",
      " [25 35 37 28 36 46 48 26 21 47]\n",
      " [40 35 38 36 32 25 36 34 36 40]\n",
      " [31 37 37 21 30 35 28 35 34 32]\n",
      " [33 33 33 29 37 40 36 32 31 31]]\n"
     ]
    },
    {
     "data": {
      "image/png": "[encoded data removed]",
      "text/plain": [
       "<Figure size 432x288 with 1 Axes>"
      ]
     },
     "metadata": {
      "needs_background": "light"
     },
     "output_type": "display_data"
    },
    {
     "data": {
      "image/png": "[encoded data removed]",
      "text/plain": [
       "<Figure size 432x288 with 1 Axes>"
      ]
     },
     "metadata": {
      "needs_background": "light"
     },
     "output_type": "display_data"
    }
   ],
   "source": [
    "path = input(\"Enter image name with path: \")\n",
    "img = cv2.imread(path, 1)\n",
    "img = cv2.cvtColor(img, cv2.COLOR_BGR2GRAY)\n",
    "\n",
    "width = 10\n",
    "height = 10\n",
    "dim = (width, height)\n",
    "resized = cv2.resize(img, dim)\n",
    "print(\"Matrix of image\", resized)\n",
    "    \n",
    "k = int(input(\"Enter intensity of 2nd img pixels: \"))\n",
    "M = np.ones(resized.shape, dtype=\"uint8\") * k\n",
    "print(\"Intensity matrix: \",M)\n",
    "\n",
    "div = cv2.divide(resized, M)\n",
    "print(\"Division matrix: \",div)\n",
    "\n",
    "plt.imshow(resized, cmap='gray')\n",
    "plt.show()\n",
    "plt.imshow(div, cmap='gray')\n",
    "plt.show()"
   ]
  },
  {
   "cell_type": "code",
   "execution_count": null,
   "id": "714496e5",
   "metadata": {},
   "outputs": [],
   "source": []
  }
 ],
 "metadata": {
  "kernelspec": {
   "display_name": "Python 3 (ipykernel)",
   "language": "python",
   "name": "python3"
  },
  "language_info": {
   "codemirror_mode": {
    "name": "ipython",
    "version": 3
   },
   "file_extension": ".py",
   "mimetype": "text/x-python",
   "name": "python",
   "nbconvert_exporter": "python",
   "pygments_lexer": "ipython3",
   "version": "3.9.12"
  }
 },
 "nbformat": 4,
 "nbformat_minor": 5
}
